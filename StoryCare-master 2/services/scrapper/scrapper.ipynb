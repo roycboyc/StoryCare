{
 "cells": [
  {
   "cell_type": "code",
   "execution_count": 1,
   "metadata": {
    "collapsed": false
   },
   "outputs": [],
   "source": [
    "import requests\n",
    "from bs4 import BeautifulSoup"
   ]
  },
  {
   "cell_type": "code",
   "execution_count": 63,
   "metadata": {
    "collapsed": true
   },
   "outputs": [],
   "source": [
    "import csv"
   ]
  },
  {
   "cell_type": "code",
   "execution_count": 2,
   "metadata": {
    "collapsed": true
   },
   "outputs": [],
   "source": [
    "url = 'http://www.upmc.com/PATIENTS-VISITORS/EDUCATION/Pages/default.aspx'"
   ]
  },
  {
   "cell_type": "code",
   "execution_count": 3,
   "metadata": {
    "collapsed": true
   },
   "outputs": [],
   "source": [
    "page = requests.get(url)"
   ]
  },
  {
   "cell_type": "code",
   "execution_count": 4,
   "metadata": {
    "collapsed": false
   },
   "outputs": [],
   "source": [
    "if page.status_code == 200:\n",
    "    soup = BeautifulSoup(page.content, 'html.parser')"
   ]
  },
  {
   "cell_type": "code",
   "execution_count": 5,
   "metadata": {
    "collapsed": false
   },
   "outputs": [],
   "source": [
    "table = soup.find( \"table\", {\"class\":\"upmc-rteTable-2\"} )\n"
   ]
  },
  {
   "cell_type": "code",
   "execution_count": 6,
   "metadata": {
    "collapsed": false
   },
   "outputs": [],
   "source": [
    "topics_link=[]\n",
    "for row in table.findAll(\"td\"):\n",
    "    if row.find(\"a\")!=None:\n",
    "        a = row.find(\"a\")\n",
    "        topics_link.append(a['href'])"
   ]
  },
  {
   "cell_type": "code",
   "execution_count": null,
   "metadata": {
    "collapsed": true
   },
   "outputs": [],
   "source": [
    "#When to call the doctor\n",
    "#When to call your doctor\n",
    "#What should I report to my doctor?"
   ]
  },
  {
   "cell_type": "code",
   "execution_count": null,
   "metadata": {
    "collapsed": true
   },
   "outputs": [],
   "source": [
    "heading_keyword=[\"call\",\"doctor\"]"
   ]
  },
  {
   "cell_type": "code",
   "execution_count": 53,
   "metadata": {
    "collapsed": true
   },
   "outputs": [],
   "source": [
    "details={}"
   ]
  },
  {
   "cell_type": "code",
   "execution_count": 58,
   "metadata": {
    "collapsed": false,
    "scrolled": false
   },
   "outputs": [
    {
     "name": "stdout",
     "output_type": "stream",
     "text": [
      "/patients-visitors/education/aids-hiv/Pages/default.aspx\n",
      "/patients-visitors/education/gastro/Pages/default.aspx\n",
      "/patients-visitors/education/pain-control/Pages/default.aspx\n",
      "/patients-visitors/education/back-surgery/Pages/default.aspx\n",
      "/patients-visitors/education/infection-control/Pages/default.aspx\n",
      "/patients-visitors/education/pregnancy/Pages/default.aspx\n"
     ]
    },
    {
     "name": "stderr",
     "output_type": "stream",
     "text": [
      "Some characters could not be decoded, and were replaced with REPLACEMENT CHARACTER.\n"
     ]
    },
    {
     "name": "stdout",
     "output_type": "stream",
     "text": [
      "/patients-visitors/education/behavioral-health/Pages/default.aspx\n",
      "/patients-visitors/education/infectious-diseases/Pages/default.aspx\n",
      "/patients-visitors/education/rehab/Pages/default.aspx\n",
      "/patients-visitors/education/breathing/Pages/default.aspx\n"
     ]
    },
    {
     "name": "stderr",
     "output_type": "stream",
     "text": [
      "Some characters could not be decoded, and were replaced with REPLACEMENT CHARACTER.\n",
      "Some characters could not be decoded, and were replaced with REPLACEMENT CHARACTER.\n",
      "Some characters could not be decoded, and were replaced with REPLACEMENT CHARACTER.\n"
     ]
    },
    {
     "name": "stdout",
     "output_type": "stream",
     "text": [
      "/patients-visitors/education/liver/Pages/default.aspx\n",
      "/patients-visitors/education/safety/Pages/default.aspx\n",
      "/patients-visitors/education/cancer/Pages/default.aspx\n"
     ]
    },
    {
     "name": "stderr",
     "output_type": "stream",
     "text": [
      "Some characters could not be decoded, and were replaced with REPLACEMENT CHARACTER.\n"
     ]
    },
    {
     "name": "stdout",
     "output_type": "stream",
     "text": [
      "/patients-visitors/education/living-wills/Pages/default.aspx\n",
      "/patients-visitors/education/stds/Pages/default.aspx\n",
      "/patients-visitors/education/cancer-radiation/Pages/default.aspx\n",
      "/patients-visitors/education/mens-health/Pages/default.aspx\n",
      "/patients-visitors/education/skin/Pages/default.aspx\n",
      "/patients-visitors/education/cancer-chemo/Pages/default.aspx\n",
      "/patients-visitors/education/miscellaneous/Pages/default.aspx\n"
     ]
    },
    {
     "name": "stderr",
     "output_type": "stream",
     "text": [
      "Some characters could not be decoded, and were replaced with REPLACEMENT CHARACTER.\n"
     ]
    },
    {
     "name": "stdout",
     "output_type": "stream",
     "text": [
      "/patients-visitors/education/smoking/Pages/default.aspx\n"
     ]
    },
    {
     "name": "stderr",
     "output_type": "stream",
     "text": [
      "Some characters could not be decoded, and were replaced with REPLACEMENT CHARACTER.\n"
     ]
    },
    {
     "name": "stdout",
     "output_type": "stream",
     "text": [
      "/patients-visitors/education/cardiology/Pages/default.aspx\n"
     ]
    },
    {
     "name": "stderr",
     "output_type": "stream",
     "text": [
      "Some characters could not be decoded, and were replaced with REPLACEMENT CHARACTER.\n",
      "Some characters could not be decoded, and were replaced with REPLACEMENT CHARACTER.\n",
      "Some characters could not be decoded, and were replaced with REPLACEMENT CHARACTER.\n",
      "Some characters could not be decoded, and were replaced with REPLACEMENT CHARACTER.\n",
      "Some characters could not be decoded, and were replaced with REPLACEMENT CHARACTER.\n"
     ]
    },
    {
     "name": "stdout",
     "output_type": "stream",
     "text": [
      "/patients-visitors/education/neurology/Pages/default.aspx\n",
      "/patients-visitors/education/stroke/Pages/default.aspx\n"
     ]
    },
    {
     "name": "stderr",
     "output_type": "stream",
     "text": [
      "Some characters could not be decoded, and were replaced with REPLACEMENT CHARACTER.\n",
      "Some characters could not be decoded, and were replaced with REPLACEMENT CHARACTER.\n",
      "Some characters could not be decoded, and were replaced with REPLACEMENT CHARACTER.\n"
     ]
    },
    {
     "name": "stdout",
     "output_type": "stream",
     "text": [
      "/patients-visitors/education/cardiology-drugs/Pages/default.aspx\n",
      "/patients-visitors/education/nutrition/Pages/default.aspx\n"
     ]
    },
    {
     "name": "stderr",
     "output_type": "stream",
     "text": [
      "Some characters could not be decoded, and were replaced with REPLACEMENT CHARACTER.\n"
     ]
    },
    {
     "name": "stdout",
     "output_type": "stream",
     "text": [
      "/patients-visitors/education/surgery/Pages/default.aspx\n"
     ]
    },
    {
     "name": "stderr",
     "output_type": "stream",
     "text": [
      "Some characters could not be decoded, and were replaced with REPLACEMENT CHARACTER.\n",
      "Some characters could not be decoded, and were replaced with REPLACEMENT CHARACTER.\n"
     ]
    },
    {
     "name": "stdout",
     "output_type": "stream",
     "text": [
      "/patients-visitors/education/catheters/Pages/default.aspx\n",
      "/patients-visitors/education/older-adults/Pages/default.aspx\n"
     ]
    },
    {
     "name": "stderr",
     "output_type": "stream",
     "text": [
      "Some characters could not be decoded, and were replaced with REPLACEMENT CHARACTER.\n",
      "Some characters could not be decoded, and were replaced with REPLACEMENT CHARACTER.\n"
     ]
    },
    {
     "name": "stdout",
     "output_type": "stream",
     "text": [
      "/patients-visitors/education/tests/Pages/default.aspx\n"
     ]
    },
    {
     "name": "stderr",
     "output_type": "stream",
     "text": [
      "Some characters could not be decoded, and were replaced with REPLACEMENT CHARACTER.\n",
      "Some characters could not be decoded, and were replaced with REPLACEMENT CHARACTER.\n",
      "Some characters could not be decoded, and were replaced with REPLACEMENT CHARACTER.\n",
      "Some characters could not be decoded, and were replaced with REPLACEMENT CHARACTER.\n",
      "Some characters could not be decoded, and were replaced with REPLACEMENT CHARACTER.\n",
      "Some characters could not be decoded, and were replaced with REPLACEMENT CHARACTER.\n",
      "Some characters could not be decoded, and were replaced with REPLACEMENT CHARACTER.\n",
      "Some characters could not be decoded, and were replaced with REPLACEMENT CHARACTER.\n"
     ]
    },
    {
     "name": "stdout",
     "output_type": "stream",
     "text": [
      "/patients-visitors/education/contraception/Pages/default.aspx\n",
      "/patients-visitors/education/orthopaedics/Pages/default.aspx\n",
      "/patients-visitors/education/urology/Pages/default.aspx\n",
      "/patients-visitors/education/diabetes/Pages/default.aspx\n",
      "/patients-visitors/education/ostomy/Pages/default.aspx\n",
      "/patients-visitors/education/wellness/Pages/default.aspx\n"
     ]
    },
    {
     "name": "stderr",
     "output_type": "stream",
     "text": [
      "Some characters could not be decoded, and were replaced with REPLACEMENT CHARACTER.\n",
      "Some characters could not be decoded, and were replaced with REPLACEMENT CHARACTER.\n",
      "Some characters could not be decoded, and were replaced with REPLACEMENT CHARACTER.\n"
     ]
    },
    {
     "name": "stdout",
     "output_type": "stream",
     "text": [
      "/patients-visitors/education/eye-care/Pages/default.aspx\n",
      "/patients-visitors/education/otolaryngology/Pages/default.aspx\n",
      "/patients-visitors/education/womens-health/Pages/default.aspx\n"
     ]
    },
    {
     "name": "stderr",
     "output_type": "stream",
     "text": [
      "Some characters could not be decoded, and were replaced with REPLACEMENT CHARACTER.\n"
     ]
    },
    {
     "name": "stdout",
     "output_type": "stream",
     "text": [
      "/patients-visitors/education/flu/Pages/default.aspx\n"
     ]
    }
   ],
   "source": [
    "for link in topics_link:\n",
    "    page = requests.get('http://www.upmc.com'+link)\n",
    "    print(link)\n",
    "    if 'living-wills' in link:\n",
    "        continue\n",
    "    if page.status_code == 200:\n",
    "        soup = BeautifulSoup(page.content, 'html.parser')\n",
    "        a = soup.find(\"h1\").find_all_next(\"ul\")\n",
    "        soup = BeautifulSoup(str(a[0]), 'html.parser')\n",
    "        for specific_topic in soup.findAll(\"a\"):\n",
    "            page = requests.get('http://www.upmc.com'+specific_topic['href'])\n",
    "            if page.status_code == 200:\n",
    "                soup = BeautifulSoup(page.content, 'html.parser')\n",
    "                for heading in range(len(soup.find_all(\"h2\"))):\n",
    "                    if \"call your doctor\" in soup.find_all(\"h2\")[heading].getText() or \"report to my doctor\" in soup.find_all(\"h2\")[heading].getText():\n",
    "                        soup1 = BeautifulSoup(page.content, 'html.parser')\n",
    "                        if len(soup1.find_all(\"h2\")[heading].find_all_next(\"ul\"))!=0:\n",
    "                            ul = soup1.find_all(\"h2\")[heading].find_all_next(\"ul\")[0]\n",
    "                        \n",
    "                            soup2 = BeautifulSoup(str(ul),'html.parser')\n",
    "                            details[specific_topic['href']]='.'.join([x.getText() for x in soup2.find_all(\"li\")])\n",
    "                        \n",
    "                        \n",
    "            \n",
    "            "
   ]
  },
  {
   "cell_type": "code",
   "execution_count": 61,
   "metadata": {
    "collapsed": false,
    "scrolled": true
   },
   "outputs": [
    {
     "data": {
      "text/plain": [
       "{'/patients-visitors/education/breathing/Pages/bronchoscopy.aspx': 'Increased difficulty breathing .Increase in the amount of blood in your sputum .Uncontrollable coughing .Chest discomfort .Chills or fever',\n",
       " '/patients-visitors/education/breathing/pages/bronchoscopy.aspx': 'Increased difficulty breathing .Increase in the amount of blood in your sputum .Uncontrollable coughing .Chest discomfort .Chills or fever',\n",
       " '/patients-visitors/education/cancer/Pages/bone-marrow-biopsy-aspirate.aspx': 'Unusual redness at the biopsy site .Swelling at the biopsy site .Excessive bleeding that does not stop after you apply pressure',\n",
       " '/patients-visitors/education/catheters/Pages/urinary-catheter-care.aspx': 'Little or no urine flows into the bag over a period of 4 hours.Little or no urine flows into the bag over a couple of hours, and you feel like your bladder is full.Lower abdominal pain and/or pain in your pelvis.Pain at the insertion site.Urine has changed in color or consistency, or there is blood in the urine .Drainage comes from the catheter insertion site that looks like pus or has a foul odor.Increased leakage around the insertion site.Temperature above 100 F (38.0 C)',\n",
       " '/patients-visitors/education/contraception/Pages/iud.aspx': 'heavy vaginal bleeding (soaking 1 or more pads or tampons in an hour).severe lower belly pain.pain during sex.fever.chills.vaginal bleeding or spotting that concerns you.any unusual vaginal discharge.you think you may be pregnant.your IUD falls out',\n",
       " '/patients-visitors/education/gastro/Pages/bariatric-surgery.aspx': 'Dehydration .Nausea or vomiting .Fever .Redness, swelling, or draining from the incision site .Shortness of breath .Chest pain .Calf pain',\n",
       " '/patients-visitors/education/gastro/Pages/colonoscopy-and-flexible-sigmoidoscopy.aspx': 'Persistent rectal bleeding .Persistent or severe pain .Temperature of 100°F or above .Black, tar-like stools',\n",
       " '/patients-visitors/education/gastro/Pages/ercp.aspx': 'Temperature of 101°F or above .Chills .Blood in your stool .Black, tar-like stools .Pain in your abdomen, chest, or back .Nausea or vomiting .Weakness, dizziness, or fainting ',\n",
       " '/patients-visitors/education/gastro/Pages/esophageal-dilation.aspx': 'Increasing chest, shoulder, or back pain.Temperature of 100°F or above.Persistent coughing up of blood.Persistent nausea or vomiting.New, persistent abdominal pain ',\n",
       " '/patients-visitors/education/gastro/Pages/upper-gi-endoscopy.aspx': 'Severe or persistent abdominal pain .Black, tar-like stool .Vomiting',\n",
       " '/patients-visitors/education/pregnancy/Pages/counting-fetal-movements.aspx': 'You have not felt at least 10 fetal movements at the end of the second hour .Any time when you do not feel movement and you have followed the counting instructions',\n",
       " '/patients-visitors/education/smoking/Pages/nicotine-gum.aspx': 'Headaches.Nausea.Abdominal pain.Vomiting.Diarrhea ',\n",
       " '/patients-visitors/education/womens-health/Pages/cryotherapy-of-the-cervix.aspx': 'Fever of 101 F or higher .Severe belly (abdominal) pain .Heavy bleeding '}"
      ]
     },
     "execution_count": 61,
     "metadata": {},
     "output_type": "execute_result"
    }
   ],
   "source": [
    "details"
   ]
  },
  {
   "cell_type": "code",
   "execution_count": 81,
   "metadata": {
    "collapsed": false
   },
   "outputs": [],
   "source": [
    "dictlist=[]\n",
    "for key, value in details.items():\n",
    "    temp = (str(key),str(value))\n",
    "    dictlist.append(temp)"
   ]
  },
  {
   "cell_type": "code",
   "execution_count": 85,
   "metadata": {
    "collapsed": true
   },
   "outputs": [],
   "source": [
    "import pandas as pd"
   ]
  },
  {
   "cell_type": "code",
   "execution_count": 88,
   "metadata": {
    "collapsed": false
   },
   "outputs": [],
   "source": [
    "x = pd.DataFrame(dictlist)"
   ]
  },
  {
   "cell_type": "code",
   "execution_count": 90,
   "metadata": {
    "collapsed": true
   },
   "outputs": [],
   "source": [
    "x.to_csv('upmc-patient-data.csv')"
   ]
  },
  {
   "cell_type": "code",
   "execution_count": null,
   "metadata": {
    "collapsed": true
   },
   "outputs": [],
   "source": []
  }
 ],
 "metadata": {
  "anaconda-cloud": {},
  "kernelspec": {
   "display_name": "Python [conda root]",
   "language": "python",
   "name": "conda-root-py"
  },
  "language_info": {
   "codemirror_mode": {
    "name": "ipython",
    "version": 3
   },
   "file_extension": ".py",
   "mimetype": "text/x-python",
   "name": "python",
   "nbconvert_exporter": "python",
   "pygments_lexer": "ipython3",
   "version": "3.5.2"
  }
 },
 "nbformat": 4,
 "nbformat_minor": 1
}
