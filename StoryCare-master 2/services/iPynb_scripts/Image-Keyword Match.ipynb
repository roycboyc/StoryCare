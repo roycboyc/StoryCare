{
 "cells": [
  {
   "cell_type": "code",
   "execution_count": 3,
   "metadata": {
    "scrolled": true
   },
   "outputs": [
    {
     "name": "stderr",
     "output_type": "stream",
     "text": [
      "/Library/Frameworks/Python.framework/Versions/2.7/lib/python2.7/site-packages/ipykernel_launcher.py:43: DeprecationWarning: Call to deprecated `similarity` (Method will be removed in 4.0.0, use self.wv.similarity() instead).\n"
     ]
    },
    {
     "name": "stdout",
     "output_type": "stream",
     "text": [
      "['addiction', 'advice', 'announcement message', 'care', 'clinic', 'colour', 'communication', 'concepts', 'consultant', 'danger', 'doctor', 'expertise', 'forbidden', 'general practitioner', 'healthcare and medicine', 'healthcare worker', 'healthy lifestyle', 'holding', 'horizontal', 'hospital', 'isolated', 'isolated on white', 'lab coat', 'male', 'man', 'medical occupation', 'medical test', 'medicine', 'message', 'no smoking sign', 'occupation', 'people', 'photography', 'professional occupation', 'showing', 'sign', 'smoking', 'smoking issues', 'social issues', 'stethoscope', 'stop', 'teaching', 'uniform'] 1.0\n"
     ]
    }
   ],
   "source": [
    "import pyexiv2\n",
    "import nltk\n",
    "import os\n",
    "from nltk.stem.snowball import SnowballStemmer\n",
    "from sematch.semantic.similarity import WordNetSimilarity\n",
    "import gensim, logging, os\n",
    "import PIL.Image as Image\n",
    "\n",
    "stemmer = SnowballStemmer(\"english\")\n",
    "# keywords =list(map(stemmer.stem, ['ache','understand']))\n",
    "keywords=['smoking']\n",
    "def getDictOfKeywords(dir):\n",
    "    dictOfimg = {}\n",
    "    for file in os.listdir(dir):\n",
    "        if file[0] == \".\":\n",
    "            continue\n",
    "        metadata = pyexiv2.ImageMetadata(dir + '//' + file)\n",
    "        metadata.read()\n",
    "        if('Iptc.Application2.Keywords' in metadata.iptc_keys):\n",
    "            dictOfimg[file] = metadata['Iptc.Application2.Keywords'].raw_value\n",
    "        elif 'Xmp.MicrosoftPhoto.LastKeywordXMP' in metadata.keys():\n",
    "            dictOfimg[file] = metadata['Xmp.MicrosoftPhoto.LastKeywordXMP'].raw_value\n",
    "        else:\n",
    "            dictOfimg[file] = []\n",
    "#         dictOfimg[file] = list(map(stemmer.stem, dictOfimg[file]))\n",
    "    return dictOfimg\n",
    "\n",
    "    \n",
    "def getSimilarImage1():\n",
    "    images = getDictOfKeywords('..//..//StoryCareImages')\n",
    "    maxSim = 0\n",
    "    imageSim = ''\n",
    "    wns = WordNetSimilarity()\n",
    "    model = gensim.models.Word2Vec.load('../trained_model/model')\n",
    "\n",
    "    for image in images.keys():\n",
    "        avg = 0\n",
    "#         print(images[image])\n",
    "        for k in keywords:\n",
    "            matches=[]\n",
    "            for word in images[image]:\n",
    "                if ' ' not in word and k in model.wv and word in model.wv:\n",
    "                    matches.append(model.similarity(k.lower(), word.lower()))\n",
    "            avg += max(matches) if matches else 0\n",
    "        similarity = avg/float(len(keywords))\n",
    "        if(similarity > maxSim):\n",
    "            maxSim = similarity\n",
    "            imageSim = image\n",
    "    print images[imageSim],maxSim\n",
    "    return imageSim\n",
    "\n",
    "im = Image.open(\"../../StoryCareImages/\" + getSimilarImage1())\n",
    "im.show()\n",
    "\n",
    "#getSimilarImage1()"
   ]
  },
  {
   "cell_type": "code",
   "execution_count": null,
   "metadata": {},
   "outputs": [],
   "source": []
  }
 ],
 "metadata": {
  "kernelspec": {
   "display_name": "Python 2",
   "language": "python",
   "name": "python2"
  },
  "language_info": {
   "codemirror_mode": {
    "name": "ipython",
    "version": 2
   },
   "file_extension": ".py",
   "mimetype": "text/x-python",
   "name": "python",
   "nbconvert_exporter": "python",
   "pygments_lexer": "ipython2",
   "version": "2.7.14"
  }
 },
 "nbformat": 4,
 "nbformat_minor": 2
}
