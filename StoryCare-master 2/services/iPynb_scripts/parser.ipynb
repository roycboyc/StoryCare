{
 "cells": [
  {
   "cell_type": "code",
   "execution_count": 12,
   "metadata": {
    "collapsed": true
   },
   "outputs": [],
   "source": [
    "from docx import Document"
   ]
  },
  {
   "cell_type": "code",
   "execution_count": 18,
   "metadata": {
    "collapsed": false
   },
   "outputs": [],
   "source": [
    "document = Document('./PALS-docs/Q34.docx')"
   ]
  },
  {
   "cell_type": "code",
   "execution_count": 19,
   "metadata": {
    "collapsed": true
   },
   "outputs": [],
   "source": [
    "patientFacingPara = []"
   ]
  },
  {
   "cell_type": "code",
   "execution_count": 20,
   "metadata": {
    "collapsed": false
   },
   "outputs": [],
   "source": [
    "paraFound=False\n",
    "for para in document.paragraphs:\n",
    "    if 'Patient-Facing Text:' in para.text:\n",
    "        paraFound = True\n",
    "        continue\n",
    "    elif 'Teaser:' in para.text:\n",
    "        paraFound = False\n",
    "    if paraFound:\n",
    "        patientFacingPara.append(para.text)"
   ]
  },
  {
   "cell_type": "code",
   "execution_count": 21,
   "metadata": {
    "collapsed": false
   },
   "outputs": [],
   "source": [
    "patientFacingText=[]\n",
    "for sentence in patientFacingPara:\n",
    "    if '.' in sentence:\n",
    "        for splitSentence in sentence.split('.'):\n",
    "            if splitSentence== ' ' or splitSentence== '':\n",
    "                continue\n",
    "            else:\n",
    "                patientFacingText.append(splitSentence)\n",
    "    elif sentence==' ' or sentence=='':\n",
    "        continue\n",
    "    else:\n",
    "        patientFacingText.append(sentence)"
   ]
  },
  {
   "cell_type": "code",
   "execution_count": 22,
   "metadata": {
    "collapsed": false
   },
   "outputs": [
    {
     "data": {
      "text/plain": [
       "['Chlorthalidone may raise blood sugar in some people',\n",
       " ' However, these changes are usually small and may not be a problem',\n",
       " ' Lower doses of chlorthalidone have less of an effect on blood sugar',\n",
       " ' The most commonly prescribed doses of chlorthalidone are low, so blood sugar changes may never be a problem for many people taking chlorthalidone',\n",
       " 'If chlorthalidone does raise your blood sugar, taking a lower dose of chlorthalidone may help keep your blood sugar down',\n",
       " ' Taking potassium supplements may also help',\n",
       " 'Even if chlorthalidone causes your blood sugar to rise, it may still be a good choice for you',\n",
       " 'In studies, people whose blood sugar rose on chlorthalidone still had lower chances of heart disease and stroke',\n",
       " ' This was true even in people with diabetes',\n",
       " 'Less pressure, more health!',\n",
       " 'Talk to your doctor if your blood sugar rises after beginning chlorthalidone',\n",
       " ' Your doctor can help you decide if another medicine is a better fit for you']"
      ]
     },
     "execution_count": 22,
     "metadata": {},
     "output_type": "execute_result"
    }
   ],
   "source": [
    "patientFacingText"
   ]
  }
 ],
 "metadata": {
  "anaconda-cloud": {},
  "kernelspec": {
   "display_name": "Python [conda root]",
   "language": "python",
   "name": "conda-root-py"
  },
  "language_info": {
   "codemirror_mode": {
    "name": "ipython",
    "version": 3
   },
   "file_extension": ".py",
   "mimetype": "text/x-python",
   "name": "python",
   "nbconvert_exporter": "python",
   "pygments_lexer": "ipython3",
   "version": "3.5.2"
  }
 },
 "nbformat": 4,
 "nbformat_minor": 1
}
